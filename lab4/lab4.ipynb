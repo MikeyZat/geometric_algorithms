{
 "cells": [
  {
   "cell_type": "markdown",
   "metadata": {
    "collapsed": true
   },
   "source": [
    "# Laboratorium 4"
   ]
  },
  {
   "cell_type": "markdown",
   "metadata": {},
   "source": [
    "### Konfiguracja"
   ]
  },
  {
   "cell_type": "code",
   "execution_count": 1,
   "metadata": {
    "pycharm": {
     "is_executing": false
    }
   },
   "outputs": [],
   "source": [
    "import numpy as np\n",
    "import matplotlib.pyplot as plt\n",
    "import matplotlib.collections as mcoll\n",
    "import matplotlib.colors as mcolors\n",
    "from matplotlib.widgets import Button\n",
    "import json as js\n",
    "\n",
    "FIG_EPS = 0.5\n",
    "\n",
    "def dist(point1, point2):\n",
    "    return np.sqrt(np.power(point1[0] - point2[0], 2) + np.power(point1[1] - point2[1], 2))\n",
    "\n",
    "class _Button_callback(object):\n",
    "    def __init__(self, scenes):\n",
    "        self.i = 0\n",
    "        self.scenes = scenes\n",
    "        self.adding_points = False\n",
    "        self.added_points = []\n",
    "        self.adding_lines = False\n",
    "        self.added_lines = []\n",
    "        self.adding_rects = False\n",
    "        self.added_rects = []\n",
    "\n",
    "    def set_axes(self, ax):\n",
    "        self.ax = ax\n",
    "        \n",
    "    def next(self, event):\n",
    "        self.i = (self.i + 1) % len(self.scenes)\n",
    "        self.draw(autoscaling = True)\n",
    "\n",
    "    def prev(self, event):\n",
    "        self.i = (self.i - 1) % len(self.scenes)\n",
    "        self.draw(autoscaling = True)\n",
    "        \n",
    "    def add_point(self, event):\n",
    "        self.adding_points = not self.adding_points\n",
    "        self.new_line_point = None\n",
    "        if self.adding_points:\n",
    "            self.adding_lines = False\n",
    "            self.adding_rects = False\n",
    "            self.added_points.append(PointsCollection([]))\n",
    "         \n",
    "    def add_line(self, event):   \n",
    "        self.adding_lines = not self.adding_lines\n",
    "        self.new_line_point = None\n",
    "        if self.adding_lines:\n",
    "            self.adding_points = False\n",
    "            self.adding_rects = False\n",
    "            self.added_lines.append(LinesCollection([]))\n",
    "\n",
    "    def add_rect(self, event):\n",
    "        self.adding_rects = not self.adding_rects\n",
    "        self.new_line_point = None\n",
    "        if self.adding_rects:\n",
    "            self.adding_points = False\n",
    "            self.adding_lines = False\n",
    "            self.new_rect()\n",
    "    \n",
    "    def new_rect(self):\n",
    "        self.added_rects.append(LinesCollection([]))\n",
    "        self.rect_points = []\n",
    "    \n",
    "    def on_click(self, event):\n",
    "        if event.inaxes != self.ax:\n",
    "            return\n",
    "        new_point = (event.xdata, event.ydata)\n",
    "        if self.adding_points:\n",
    "            self.added_points[-1].add_points([new_point])\n",
    "            self.draw(autoscaling = False)\n",
    "        elif self.adding_lines:\n",
    "            if self.new_line_point is not None:\n",
    "                self.added_lines[-1].add([self.new_line_point, new_point])\n",
    "                self.new_line_point = None\n",
    "                self.draw(autoscaling = False)\n",
    "            else:\n",
    "                self.new_line_point = new_point\n",
    "        elif self.adding_rects:\n",
    "            if len(self.rect_points) == 0:\n",
    "                self.rect_points.append(new_point)\n",
    "            elif len(self.rect_points) == 1:\n",
    "                self.added_rects[-1].add([self.rect_points[-1], new_point])\n",
    "                self.rect_points.append(new_point)\n",
    "                self.draw(autoscaling = False)\n",
    "            elif len(self.rect_points) > 1:\n",
    "                if dist(self.rect_points[0], new_point) < FIG_EPS:\n",
    "                    self.added_rects[-1].add([self.rect_points[-1], self.rect_points[0]])\n",
    "                    self.new_rect()\n",
    "                else:    \n",
    "                    self.added_rects[-1].add([self.rect_points[-1], new_point])\n",
    "                    self.rect_points.append(new_point)\n",
    "                self.draw(autoscaling = False)\n",
    "        \n",
    "    def draw(self, autoscaling = True):\n",
    "        if not autoscaling:\n",
    "            xlim = self.ax.get_xlim()\n",
    "            ylim = self.ax.get_ylim()\n",
    "        self.ax.clear()\n",
    "        for collection in (self.scenes[self.i].points + self.added_points):\n",
    "            if len(collection.points) > 0:\n",
    "                self.ax.scatter(*zip(*(np.array(collection.points))), **collection.kwargs)\n",
    "        for collection in (self.scenes[self.i].lines + self.added_lines + self.added_rects):\n",
    "            self.ax.add_collection(collection.get_collection())\n",
    "        self.ax.autoscale(autoscaling)\n",
    "        if not autoscaling:\n",
    "            self.ax.set_xlim(xlim)\n",
    "            self.ax.set_ylim(ylim)\n",
    "        plt.draw()\n"
   ]
  },
  {
   "cell_type": "markdown",
   "metadata": {},
   "source": [
    "### Interfejsy\n",
    "\n",
    "[Dostępne kolory](https://matplotlib.org/3.1.1/gallery/color/named_colors.html)\n",
    "\n",
    "[Dostępne znaczniki punktów](https://matplotlib.org/3.1.1/api/markers_api.html#module-matplotlib.markers)"
   ]
  },
  {
   "cell_type": "code",
   "execution_count": 2,
   "metadata": {
    "pycharm": {
     "is_executing": false
    }
   },
   "outputs": [],
   "source": [
    "class Scene:\n",
    "    def __init__(self, points=[], lines=[]):\n",
    "        self.points=points\n",
    "        self.lines=lines\n",
    "\n",
    "class PointsCollection:\n",
    "    def __init__(self, points, **kwargs):\n",
    "        self.points = points\n",
    "        self.kwargs = kwargs\n",
    "    \n",
    "    def add_points(self, points):\n",
    "        self.points = self.points + points\n",
    "\n",
    "class LinesCollection:\n",
    "    def __init__(self, lines, **kwargs):\n",
    "        self.lines = lines\n",
    "        self.kwargs = kwargs\n",
    "        \n",
    "    def add(self, line):\n",
    "        self.lines.append(line)\n",
    "        \n",
    "    def get_collection(self):\n",
    "        return mcoll.LineCollection(self.lines, **self.kwargs)\n",
    "    \n",
    "class Plot:\n",
    "    def __init__(self, scenes = [Scene()], json = None):\n",
    "        if json is None:\n",
    "            self.scenes = scenes\n",
    "        else:\n",
    "            self.scenes = [Scene([PointsCollection(pointsCol) for pointsCol in scene[\"points\"]], \n",
    "                                 [LinesCollection(linesCol) for linesCol in scene[\"lines\"]]) \n",
    "                           for scene in js.loads(json)]\n",
    "        \n",
    "    def __configure_buttons(self):\n",
    "        plt.subplots_adjust(bottom=0.2)\n",
    "        ax_prev = plt.axes([0.6, 0.05, 0.15, 0.075])\n",
    "        ax_next = plt.axes([0.76, 0.05, 0.15, 0.075])\n",
    "        ax_add_point = plt.axes([0.44, 0.05, 0.15, 0.075])\n",
    "        ax_add_line = plt.axes([0.28, 0.05, 0.15, 0.075])\n",
    "        ax_add_rect = plt.axes([0.12, 0.05, 0.15, 0.075])\n",
    "        b_next = Button(ax_next, 'Następny')\n",
    "        b_next.on_clicked(self.callback.next)\n",
    "        b_prev = Button(ax_prev, 'Poprzedni')\n",
    "        b_prev.on_clicked(self.callback.prev)\n",
    "        b_add_point = Button(ax_add_point, 'Dodaj punkt')\n",
    "        b_add_point.on_clicked(self.callback.add_point)\n",
    "        b_add_line = Button(ax_add_line, 'Dodaj linię')\n",
    "        b_add_line.on_clicked(self.callback.add_line)\n",
    "        b_add_rect = Button(ax_add_rect, 'Dodaj figurę')\n",
    "        b_add_rect.on_clicked(self.callback.add_rect)\n",
    "        return [b_prev, b_next, b_add_point, b_add_line, b_add_rect]\n",
    "    \n",
    "    def add_scene(self, scene):\n",
    "        self.scenes.append(scene)\n",
    "    \n",
    "    def add_scenes(self, scenes):\n",
    "        self.scenes = self.scenes + scenes\n",
    "\n",
    "    def toJson(self):\n",
    "        return js.dumps([{\"points\": [np.array(pointCol.points).tolist() for pointCol in scene.points], \n",
    "                          \"lines\":[linesCol.lines for linesCol in scene.lines]} \n",
    "                         for scene in self.scenes])    \n",
    "     \n",
    "    def get_added_points(self):\n",
    "        if self.callback:\n",
    "            return self.callback.added_points\n",
    "        else:\n",
    "            return None\n",
    "  \n",
    "    def get_added_lines(self):\n",
    "        if self.callback:\n",
    "            return self.callback.added_lines\n",
    "        else:\n",
    "            return None\n",
    "        \n",
    "    def get_added_figure(self):\n",
    "        if self.callback:\n",
    "            return self.callback.added_rects\n",
    "        else:\n",
    "            return None\n",
    "    \n",
    "    def get_added_elements(self):\n",
    "        if self.callback:\n",
    "            return Scene(self.callback.added_points, self.callback.added_lines+self.callback.added_rects)\n",
    "        else:\n",
    "            return None\n",
    "    \n",
    "    def draw(self):\n",
    "        plt.close()\n",
    "        fig = plt.figure()\n",
    "        self.callback = _Button_callback(self.scenes)\n",
    "        self.widgets = self.__configure_buttons()\n",
    "        ax = plt.axes(autoscale_on = False)\n",
    "        self.callback.set_axes(ax)\n",
    "        fig.canvas.mpl_connect('button_press_event', self.callback.on_click)\n",
    "        plt.show()\n",
    "        self.callback.draw()\n",
    "        "
   ]
  },
  {
   "cell_type": "markdown",
   "metadata": {},
   "source": [
    "### Rozwiązanie\n",
    "### Dodaj tu punkty i/lub odcinki!"
   ]
  },
  {
   "cell_type": "code",
   "execution_count": 3,
   "outputs": [
    {
     "data": {
      "text/plain": "<Figure size 432x288 with 6 Axes>",
      "image/png": "[encoded data removed]"
     },
     "metadata": {
      "needs_background": "light"
     },
     "output_type": "display_data"
    },
    {
     "data": {
      "text/plain": "<Figure size 432x288 with 0 Axes>"
     },
     "metadata": {},
     "output_type": "display_data"
    }
   ],
   "source": [
    "plot_to_draw = Plot()\n",
    "plot_to_draw.draw()"
   ],
   "metadata": {
    "collapsed": false,
    "pycharm": {
     "name": "#%%\n",
     "is_executing": false
    }
   }
  },
  {
   "cell_type": "code",
   "execution_count": 4,
   "metadata": {
    "pycharm": {
     "is_executing": false,
     "name": "#%%\n"
    }
   },
   "outputs": [],
   "source": [
    "%matplotlib notebook\n",
    "\n",
    "figure_from_previous_plot = plot_to_draw.get_added_figure()\n",
    "scenes = [Scene([], figure_from_previous_plot)]\n",
    "\n",
    "with open('first_plot.json', 'w') as file:\n",
    "    file.write(Plot(scenes).toJson())"
   ]
  },
  {
   "cell_type": "markdown",
   "source": [
    "### Algorytm sprawdzania y-monotoniczności"
   ],
   "metadata": {
    "collapsed": false
   }
  },
  {
   "cell_type": "code",
   "execution_count": 6,
   "outputs": [
    {
     "traceback": [
      "\u001b[1;31m---------------------------------------------------------------------------\u001b[0m",
      "\u001b[1;31mIndexError\u001b[0m                                Traceback (most recent call last)",
      "\u001b[1;32m<ipython-input-6-978c3b1e10cf>\u001b[0m in \u001b[0;36m<module>\u001b[1;34m\u001b[0m\n\u001b[0;32m    106\u001b[0m     \u001b[0mjson\u001b[0m \u001b[1;33m=\u001b[0m \u001b[0mfile\u001b[0m\u001b[1;33m.\u001b[0m\u001b[0mread\u001b[0m\u001b[1;33m(\u001b[0m\u001b[1;33m)\u001b[0m\u001b[1;33m\u001b[0m\u001b[1;33m\u001b[0m\u001b[0m\n\u001b[0;32m    107\u001b[0m \u001b[0mhelper_plot\u001b[0m \u001b[1;33m=\u001b[0m \u001b[0mPlot\u001b[0m\u001b[1;33m(\u001b[0m\u001b[0mjson\u001b[0m\u001b[1;33m=\u001b[0m\u001b[0mjson\u001b[0m\u001b[1;33m)\u001b[0m\u001b[1;33m\u001b[0m\u001b[1;33m\u001b[0m\u001b[0m\n\u001b[1;32m--> 108\u001b[1;33m \u001b[0mlines\u001b[0m \u001b[1;33m=\u001b[0m \u001b[0mhelper_plot\u001b[0m\u001b[1;33m.\u001b[0m\u001b[0mscenes\u001b[0m\u001b[1;33m[\u001b[0m\u001b[1;36m0\u001b[0m\u001b[1;33m]\u001b[0m\u001b[1;33m.\u001b[0m\u001b[0mlines\u001b[0m\u001b[1;33m[\u001b[0m\u001b[1;36m0\u001b[0m\u001b[1;33m]\u001b[0m\u001b[1;33m.\u001b[0m\u001b[0mlines\u001b[0m\u001b[1;33m\u001b[0m\u001b[1;33m\u001b[0m\u001b[0m\n\u001b[0m\u001b[0;32m    109\u001b[0m \u001b[0mfigure_points\u001b[0m \u001b[1;33m=\u001b[0m \u001b[0mget_points_from_lines\u001b[0m\u001b[1;33m(\u001b[0m\u001b[0mlines\u001b[0m\u001b[1;33m)\u001b[0m\u001b[1;33m\u001b[0m\u001b[1;33m\u001b[0m\u001b[0m\n\u001b[0;32m    110\u001b[0m \u001b[0mis_figure_monotonic\u001b[0m \u001b[1;33m=\u001b[0m \u001b[0mis_y_monotonic\u001b[0m\u001b[1;33m(\u001b[0m\u001b[0mfigure_points\u001b[0m\u001b[1;33m)\u001b[0m\u001b[1;33m\u001b[0m\u001b[1;33m\u001b[0m\u001b[0m\n",
      "\u001b[1;31mIndexError\u001b[0m: list index out of range"
     ],
     "ename": "IndexError",
     "evalue": "list index out of range",
     "output_type": "error"
    }
   ],
   "source": [
    "%matplotlib notebook\n",
    "\n",
    "def get_points_from_lines(lines):\n",
    "    return [(line[0][0], line[0][1]) for line in lines]\n",
    "\n",
    "def y(point): return point[1]\n",
    "\n",
    "def find_min_max(points):\n",
    "    min_y_i = max_y_i = 0\n",
    "    \n",
    "    for i in range(len(points)):\n",
    "        p_y = y(points[i])\n",
    "        if p_y < y(points[min_y_i]):\n",
    "            min_y_i = i\n",
    "        elif p_y > y(points[max_y_i]):\n",
    "            max_y_i = i\n",
    "    return min_y_i, max_y_i\n",
    "\n",
    "def det(a,b,c):\n",
    "    return a[0]*b[1] + a[1]*c[0] + b[0]*c[1] - b[1]*c[0] - a[1]*b[0] - a[0]*c[1]\n",
    "\n",
    "def orient(a, b, c, eps=1e-6):\n",
    "    orientation = det(a, b, c)\n",
    "    if orientation < -eps:\n",
    "        return -1\n",
    "    elif orientation > eps:\n",
    "        return 1\n",
    "    else:\n",
    "        return 0\n",
    "\n",
    "\n",
    "def is_y_monotonic(points):\n",
    "    min_point_i, max_point_i = find_min_max(points)\n",
    "    i = max_point_i\n",
    "    n = len(points)# we got from highest to the lowest so y(i+1) should always be lower or equal y(i)\n",
    "    while i != min_point_i:\n",
    "        if y(points[i+1]) > y(points[i]): return False\n",
    "        i = (i + 1)%n\n",
    "    i = max_point_i# Now we do the same but going different way\n",
    "    while i != min_point_i:\n",
    "        if y(points[i-1]) > y(points[i]): return False\n",
    "        i = (i -1)%n\n",
    "    return True\n",
    "\n",
    "\n",
    "def divide_into_sets(points):\n",
    "    min_point_i, max_point_i = find_min_max(points)\n",
    "    set_1 = set()\n",
    "    set_2 = set()\n",
    "    i = max_point_i\n",
    "    n = len(points)# we got from highest to the lowest so y(i+1) should always be lower or equal y(i)\n",
    "    while i != min_point_i:\n",
    "        set_1.add(points[i])\n",
    "        i = (i + 1)%n\n",
    "    i = max_point_i # Now we do the same but going different way\n",
    "    while i != min_point_i:\n",
    "        i = (i -1)%n\n",
    "        set_2.add(points[i])\n",
    "    return set_1, set_2\n",
    "\n",
    "def is_in_the_same_set(point_1, point_2, set_1, set_2):\n",
    "    return (point_1 in set_1 and point_2 in set_1) or (point_1 in set_2 and point_2 in set_2)\n",
    "    \n",
    "def connect(point_1, point_2):\n",
    "    return point_1, point_2\n",
    "\n",
    "\n",
    "def is_inside_figure(point_1, point_2, point_3):\n",
    "    return True\n",
    "\n",
    "    \n",
    "def triangulate(lines, points):\n",
    "    set_1, set_2 = divide_into_sets(points[0], points[-1], points)\n",
    "    sorted_points = sorted(points, key= lambda x: x[1], reverse = True)\n",
    "    stack = [points[0], points[1]]\n",
    "    i = 2\n",
    "    n = len(sorted_points)\n",
    "    while i < n :\n",
    "        point_3 = points[i]\n",
    "        point_2 = stack.pop()\n",
    "        point_1 = stack.pop()\n",
    "        if not is_in_the_same_set(point_3, point_2, set_1, set_2):\n",
    "            connect(point_3, point_2)\n",
    "            connect(point_3, point_1)\n",
    "            while len(stack) > 0:\n",
    "                point_connecting = stack.pop()\n",
    "                connect(point_3, point_connecting)\n",
    "            stack += [point_2, point_3]\n",
    "            i+=1\n",
    "        else:\n",
    "            if is_inside_figure(point_3, point_2, point_1):\n",
    "                print('TODO')\n",
    "            else:\n",
    "                stack += [point_1, point_2, point_3]\n",
    "                \n",
    "                \n",
    "            \n",
    "            \n",
    "                \n",
    "\n",
    "\n",
    "with open('first_plot.json', 'r') as file:\n",
    "    json = file.read()\n",
    "helper_plot = Plot(json=json)\n",
    "lines = helper_plot.scenes[0].lines[0].lines\n",
    "figure_points = get_points_from_lines(lines)\n",
    "is_figure_monotonic = is_y_monotonic(figure_points)\n",
    "if is_figure_monotonic:\n",
    "    triangulate(lines, figure_points)\n",
    "helper_plot.draw()\n"
   ],
   "metadata": {
    "collapsed": false,
    "pycharm": {
     "name": "#%%\n",
     "is_executing": false
    }
   }
  }
 ],
 "metadata": {
  "kernelspec": {
   "display_name": "Python 3",
   "language": "python",
   "name": "python3"
  },
  "language_info": {
   "codemirror_mode": {
    "name": "ipython",
    "version": 3
   },
   "file_extension": ".py",
   "mimetype": "text/x-python",
   "name": "python",
   "nbconvert_exporter": "python",
   "pygments_lexer": "ipython3",
   "version": "3.7.3"
  },
  "pycharm": {
   "stem_cell": {
    "cell_type": "raw",
    "source": [],
    "metadata": {
     "collapsed": false
    }
   }
  }
 },
 "nbformat": 4,
 "nbformat_minor": 1
}